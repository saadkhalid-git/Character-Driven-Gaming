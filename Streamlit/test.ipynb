{
 "cells": [
  {
   "cell_type": "code",
   "execution_count": 3,
   "metadata": {},
   "outputs": [],
   "source": [
    "import sys\n",
    "import os"
   ]
  },
  {
   "cell_type": "code",
   "execution_count": null,
   "metadata": {},
   "outputs": [],
   "source": [
    "sys.path.append(os.path.dirname(os.path.dirname(os.path.abspath('__file__'))))"
   ]
  },
  {
   "cell_type": "code",
   "execution_count": 6,
   "metadata": {},
   "outputs": [
    {
     "data": {
      "text/plain": [
       "['/opt/homebrew/anaconda3/envs/cross-domain-recommendation/lib/python310.zip',\n",
       " '/opt/homebrew/anaconda3/envs/cross-domain-recommendation/lib/python3.10',\n",
       " '/opt/homebrew/anaconda3/envs/cross-domain-recommendation/lib/python3.10/lib-dynload',\n",
       " '',\n",
       " '/opt/homebrew/anaconda3/envs/cross-domain-recommendation/lib/python3.10/site-packages',\n",
       " '/opt/homebrew/anaconda3/envs/cross-domain-recommendation/lib/python3.10/site-packages/setuptools/_vendor',\n",
       " '/Users/saadkhalid/Documents/epita/s3/action_learning/final/cross-domain-recommender-movies-and-games/streamlit']"
      ]
     },
     "execution_count": 6,
     "metadata": {},
     "output_type": "execute_result"
    }
   ],
   "source": [
    "sys.path"
   ]
  },
  {
   "cell_type": "code",
   "execution_count": 8,
   "metadata": {},
   "outputs": [
    {
     "name": "stdout",
     "output_type": "stream",
     "text": [
      "['header-2.jpg', 'header.jpg', 'capsule_616x353.jpg', 'capsule_616x353-2.jpg', 'capsule_616x353-3.jpg']\n"
     ]
    },
    {
     "data": {
      "text/plain": [
       "['/Users/wasedoo/Documents/EPITA/Semester 3/Action Learning/cross-domain-recommender-movies-and-games/Streamlit/trending posters/header-2.jpg',\n",
       " '/Users/wasedoo/Documents/EPITA/Semester 3/Action Learning/cross-domain-recommender-movies-and-games/Streamlit/trending posters/header.jpg',\n",
       " '/Users/wasedoo/Documents/EPITA/Semester 3/Action Learning/cross-domain-recommender-movies-and-games/Streamlit/trending posters/capsule_616x353.jpg',\n",
       " '/Users/wasedoo/Documents/EPITA/Semester 3/Action Learning/cross-domain-recommender-movies-and-games/Streamlit/trending posters/capsule_616x353-2.jpg',\n",
       " '/Users/wasedoo/Documents/EPITA/Semester 3/Action Learning/cross-domain-recommender-movies-and-games/Streamlit/trending posters/capsule_616x353-3.jpg']"
      ]
     },
     "execution_count": 8,
     "metadata": {},
     "output_type": "execute_result"
    }
   ],
   "source": []
  },
  {
   "cell_type": "code",
   "execution_count": 9,
   "metadata": {},
   "outputs": [],
   "source": []
  },
  {
   "cell_type": "code",
   "execution_count": 11,
   "metadata": {},
   "outputs": [
    {
     "name": "stdout",
     "output_type": "stream",
     "text": [
      "['header-2.jpg', 'header.jpg', 'capsule_616x353.jpg', 'capsule_616x353-2.jpg', 'capsule_616x353-3.jpg']\n",
      "['/Users/wasedoo/Documents/EPITA/Semester 3/Action Learning/cross-domain-recommender-movies-and-games/Streamlit/trending posters/header-2.jpg', '/Users/wasedoo/Documents/EPITA/Semester 3/Action Learning/cross-domain-recommender-movies-and-games/Streamlit/trending posters/header.jpg', '/Users/wasedoo/Documents/EPITA/Semester 3/Action Learning/cross-domain-recommender-movies-and-games/Streamlit/trending posters/capsule_616x353.jpg', '/Users/wasedoo/Documents/EPITA/Semester 3/Action Learning/cross-domain-recommender-movies-and-games/Streamlit/trending posters/capsule_616x353-2.jpg', '/Users/wasedoo/Documents/EPITA/Semester 3/Action Learning/cross-domain-recommender-movies-and-games/Streamlit/trending posters/capsule_616x353-3.jpg']\n"
     ]
    }
   ],
   "source": []
  },
  {
   "cell_type": "code",
   "execution_count": null,
   "metadata": {},
   "outputs": [],
   "source": []
  }
 ],
 "metadata": {
  "kernelspec": {
   "display_name": "cross-domain-recommendation",
   "language": "python",
   "name": "python3"
  },
  "language_info": {
   "codemirror_mode": {
    "name": "ipython",
    "version": 3
   },
   "file_extension": ".py",
   "mimetype": "text/x-python",
   "name": "python",
   "nbconvert_exporter": "python",
   "pygments_lexer": "ipython3",
   "version": "3.10.16"
  }
 },
 "nbformat": 4,
 "nbformat_minor": 2
}

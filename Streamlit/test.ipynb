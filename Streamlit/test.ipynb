{
 "cells": [
  {
   "cell_type": "code",
   "execution_count": 1,
   "metadata": {},
   "outputs": [],
   "source": [
    "\n",
    "GAME_POSTERS_FOLDER = \"/Users/wasedoo/Documents/EPITA/Semester 3/Action Learning/cross-domain-recommender-movies-and-games/Streamlit/trending posters/\"\n"
   ]
  },
  {
   "cell_type": "code",
   "execution_count": 7,
   "metadata": {},
   "outputs": [],
   "source": [
    "import os\n",
    "def get_game_poster_paths():\n",
    "    \"\"\"Retrieve all game poster image paths from the local folder.\"\"\"\n",
    "    if not os.path.exists(GAME_POSTERS_FOLDER):\n",
    "        return []\n",
    "\n",
    "    print(os.listdir(GAME_POSTERS_FOLDER))\n",
    "    # Get all image files (JPEG, PNG, etc.)\n",
    "    return [os.path.join(GAME_POSTERS_FOLDER, f) for f in os.listdir(GAME_POSTERS_FOLDER) if f.endswith((\".png\", \".jpg\", \".jpeg\"))]\n"
   ]
  },
  {
   "cell_type": "code",
   "execution_count": 8,
   "metadata": {},
   "outputs": [
    {
     "name": "stdout",
     "output_type": "stream",
     "text": [
      "['header-2.jpg', 'header.jpg', 'capsule_616x353.jpg', 'capsule_616x353-2.jpg', 'capsule_616x353-3.jpg']\n"
     ]
    },
    {
     "data": {
      "text/plain": [
       "['/Users/wasedoo/Documents/EPITA/Semester 3/Action Learning/cross-domain-recommender-movies-and-games/Streamlit/trending posters/header-2.jpg',\n",
       " '/Users/wasedoo/Documents/EPITA/Semester 3/Action Learning/cross-domain-recommender-movies-and-games/Streamlit/trending posters/header.jpg',\n",
       " '/Users/wasedoo/Documents/EPITA/Semester 3/Action Learning/cross-domain-recommender-movies-and-games/Streamlit/trending posters/capsule_616x353.jpg',\n",
       " '/Users/wasedoo/Documents/EPITA/Semester 3/Action Learning/cross-domain-recommender-movies-and-games/Streamlit/trending posters/capsule_616x353-2.jpg',\n",
       " '/Users/wasedoo/Documents/EPITA/Semester 3/Action Learning/cross-domain-recommender-movies-and-games/Streamlit/trending posters/capsule_616x353-3.jpg']"
      ]
     },
     "execution_count": 8,
     "metadata": {},
     "output_type": "execute_result"
    }
   ],
   "source": [
    "list = get_game_poster_paths()\n",
    "list"
   ]
  },
  {
   "cell_type": "code",
   "execution_count": 9,
   "metadata": {},
   "outputs": [],
   "source": [
    "def display_game_slideshow():\n",
    "    \"\"\"Displays a slideshow of trending game posters.\"\"\"\n",
    "    game_images = get_game_poster_paths()\n",
    "    print(game_images)\n"
   ]
  },
  {
   "cell_type": "code",
   "execution_count": 11,
   "metadata": {},
   "outputs": [
    {
     "name": "stdout",
     "output_type": "stream",
     "text": [
      "['header-2.jpg', 'header.jpg', 'capsule_616x353.jpg', 'capsule_616x353-2.jpg', 'capsule_616x353-3.jpg']\n",
      "['/Users/wasedoo/Documents/EPITA/Semester 3/Action Learning/cross-domain-recommender-movies-and-games/Streamlit/trending posters/header-2.jpg', '/Users/wasedoo/Documents/EPITA/Semester 3/Action Learning/cross-domain-recommender-movies-and-games/Streamlit/trending posters/header.jpg', '/Users/wasedoo/Documents/EPITA/Semester 3/Action Learning/cross-domain-recommender-movies-and-games/Streamlit/trending posters/capsule_616x353.jpg', '/Users/wasedoo/Documents/EPITA/Semester 3/Action Learning/cross-domain-recommender-movies-and-games/Streamlit/trending posters/capsule_616x353-2.jpg', '/Users/wasedoo/Documents/EPITA/Semester 3/Action Learning/cross-domain-recommender-movies-and-games/Streamlit/trending posters/capsule_616x353-3.jpg']\n"
     ]
    }
   ],
   "source": [
    "display_game_slideshow()"
   ]
  },
  {
   "cell_type": "code",
   "execution_count": null,
   "metadata": {},
   "outputs": [],
   "source": []
  }
 ],
 "metadata": {
  "kernelspec": {
   "display_name": "DSP",
   "language": "python",
   "name": "python3"
  },
  "language_info": {
   "codemirror_mode": {
    "name": "ipython",
    "version": 3
   },
   "file_extension": ".py",
   "mimetype": "text/x-python",
   "name": "python",
   "nbconvert_exporter": "python",
   "pygments_lexer": "ipython3",
   "version": "3.9.19"
  }
 },
 "nbformat": 4,
 "nbformat_minor": 2
}
